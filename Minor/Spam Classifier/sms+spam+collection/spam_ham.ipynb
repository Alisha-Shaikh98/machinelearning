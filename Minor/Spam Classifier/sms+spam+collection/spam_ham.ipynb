{
 "cells": [
  {
   "cell_type": "markdown",
   "id": "697cfa55",
   "metadata": {},
   "source": [
    "Imports\n",
    "---"
   ]
  },
  {
   "cell_type": "code",
   "execution_count": 16,
   "id": "20ec5020",
   "metadata": {},
   "outputs": [
    {
     "name": "stderr",
     "output_type": "stream",
     "text": [
      "[nltk_data] Downloading package stopwords to\n",
      "[nltk_data]     C:\\Users\\Lenovo\\AppData\\Roaming\\nltk_data...\n",
      "[nltk_data]   Unzipping corpora\\stopwords.zip.\n"
     ]
    },
    {
     "data": {
      "text/plain": [
       "True"
      ]
     },
     "execution_count": 16,
     "metadata": {},
     "output_type": "execute_result"
    }
   ],
   "source": [
    "#imports\n",
    "import pandas as pd\n",
    "import numpy as np\n",
    "import matplotlib.pyplot as plt \n",
    "import seaborn as sns\n",
    "\n",
    "#Libraries\n",
    "import nltk\n",
    "import string\n",
    "import re\n",
    "from nltk.corpus import stopwords\n",
    "from nltk.stem.porter import PorterStemmer\n",
    "\n",
    "nltk.download('stopwords')\n"
   ]
  },
  {
   "cell_type": "markdown",
   "id": "f97704f5",
   "metadata": {},
   "source": [
    "Data Loading & Printing\n",
    "---"
   ]
  },
  {
   "cell_type": "code",
   "execution_count": 17,
   "id": "84745bf8",
   "metadata": {},
   "outputs": [
    {
     "name": "stdout",
     "output_type": "stream",
     "text": [
      "\n",
      "Frist 10 values of the dataset: \n",
      " \n",
      "  label                                            message\n",
      "0   ham  Go until jurong point, crazy.. Available only ...\n",
      "1   ham                      Ok lar... Joking wif u oni...\n",
      "2  spam  Free entry in 2 a wkly comp to win FA Cup fina...\n",
      "3   ham  U dun say so early hor... U c already then say...\n",
      "4   ham  Nah I don't think he goes to usf, he lives aro...\n",
      "5  spam  FreeMsg Hey there darling it's been 3 week's n...\n",
      "6   ham  Even my brother is not like to speak with me. ...\n",
      "7   ham  As per your request 'Melle Melle (Oru Minnamin...\n",
      "8  spam  WINNER!! As a valued network customer you have...\n",
      "9  spam  Had your mobile 11 months or more? U R entitle...\n",
      "\n",
      "\n",
      "Shape of the dataset: \n",
      "(5572, 2)\n",
      "\n",
      "\n",
      "Null values any in the dataset\n",
      "label      0\n",
      "message    0\n",
      "dtype: int64\n",
      "\n"
     ]
    }
   ],
   "source": [
    "data = 'SMSSpamCollection.csv'\n",
    "\n",
    "df = pd.read_csv(data, sep='\\t', header = None, names= [\"label\",\"message\"])\n",
    "print(f'''\n",
    "Frist 10 values of the dataset: \\n \n",
    "{df.head(10)}\\n\\n\n",
    "Shape of the dataset: \n",
    "{df.shape}\\n\\n\n",
    "Null values any in the dataset\n",
    "{df.isnull().sum()}\n",
    "''')"
   ]
  },
  {
   "cell_type": "markdown",
   "id": "3f555410",
   "metadata": {},
   "source": [
    "Preprocessing for NLP (Creating a clean text method)\n",
    "---"
   ]
  },
  {
   "cell_type": "code",
   "execution_count": 18,
   "id": "8d5ab485",
   "metadata": {},
   "outputs": [],
   "source": [
    "stemmer = PorterStemmer()\n",
    "stop_words = set(stopwords.words('english'))\n",
    "\n",
    "def clean_text (text):\n",
    "    #1. Converting to lowercase\n",
    "    text = text.lower()\n",
    "\n",
    "    #2. Remove Punctuation/ special character using regex\n",
    "    text = re.sub(r'[^a-zA-Z0-9]',' ',text)\n",
    "\n",
    "    #3. Tokenize (split into words)\n",
    "    words = text.split()\n",
    "\n",
    "    #4. Remove stopwards and apply steming\n",
    "    cleaned = [stemmer.stem(word) for word in words if word not in stop_words]\n",
    "\n",
    "    #5. Rejoin\n",
    "    return \" \".join(cleaned)"
   ]
  },
  {
   "cell_type": "markdown",
   "id": "87708cba",
   "metadata": {},
   "source": [
    "Apply Method to Dataset\n",
    "---"
   ]
  },
  {
   "cell_type": "code",
   "execution_count": 19,
   "id": "d7c3e253",
   "metadata": {},
   "outputs": [
    {
     "name": "stdout",
     "output_type": "stream",
     "text": [
      "     label                                            message  \\\n",
      "0      ham  Go until jurong point, crazy.. Available only ...   \n",
      "1      ham                      Ok lar... Joking wif u oni...   \n",
      "2     spam  Free entry in 2 a wkly comp to win FA Cup fina...   \n",
      "3      ham  U dun say so early hor... U c already then say...   \n",
      "4      ham  Nah I don't think he goes to usf, he lives aro...   \n",
      "...    ...                                                ...   \n",
      "5567  spam  This is the 2nd time we have tried 2 contact u...   \n",
      "5568   ham               Will ü b going to esplanade fr home?   \n",
      "5569   ham  Pity, * was in mood for that. So...any other s...   \n",
      "5570   ham  The guy did some bitching but I acted like i'd...   \n",
      "5571   ham                         Rofl. Its true to its name   \n",
      "\n",
      "                                        cleaned_message  \n",
      "0     go jurong point crazi avail bugi n great world...  \n",
      "1                                 ok lar joke wif u oni  \n",
      "2     free entri 2 wkli comp win fa cup final tkt 21...  \n",
      "3                   u dun say earli hor u c alreadi say  \n",
      "4                  nah think goe usf live around though  \n",
      "...                                                 ...  \n",
      "5567  2nd time tri 2 contact u u 750 pound prize 2 c...  \n",
      "5568                              b go esplanad fr home  \n",
      "5569                                  piti mood suggest  \n",
      "5570  guy bitch act like interest buy someth els nex...  \n",
      "5571                                     rofl true name  \n",
      "\n",
      "[5572 rows x 3 columns]\n"
     ]
    }
   ],
   "source": [
    "df['cleaned_message'] = df['message'].apply(clean_text)\n",
    "print(df)"
   ]
  },
  {
   "cell_type": "code",
   "execution_count": 21,
   "id": "cb0611ec",
   "metadata": {},
   "outputs": [
    {
     "name": "stdout",
     "output_type": "stream",
     "text": [
      "[('u', 1207), ('call', 679), ('2', 533), ('go', 456), ('get', 452), ('ur', 391), ('4', 327), ('gt', 318), ('lt', 316), ('come', 304), ('ok', 293), ('free', 284), ('day', 276), ('know', 275), ('love', 266), ('like', 261), ('time', 252), ('good', 248), ('want', 247), ('got', 240)]\n"
     ]
    }
   ],
   "source": [
    "#Check for repeated messages\n",
    "#Optional Check\n",
    "from collections import Counter\n",
    "\n",
    "all_words =' '.join(df['cleaned_message']).split()\n",
    "freq_words = Counter(all_words).most_common(20)\n",
    "\n",
    "print(freq_words)"
   ]
  },
  {
   "cell_type": "markdown",
   "id": "0dbcd2c2",
   "metadata": {},
   "source": [
    "Text Vectorizarion (BoW or TF_IDF)\n",
    "---"
   ]
  },
  {
   "cell_type": "code",
   "execution_count": 27,
   "id": "c2273028",
   "metadata": {},
   "outputs": [
    {
     "name": "stdout",
     "output_type": "stream",
     "text": [
      "(5572, 3000)\n"
     ]
    }
   ],
   "source": [
    "from sklearn.feature_extraction.text import TfidfVectorizer\n",
    "tfidf = TfidfVectorizer(max_features=3000) # Use top 3000 words to limit size\n",
    "\n",
    "X = tfidf.fit_transform(df['cleaned_message']).toarray()\n",
    "print(X.shape)"
   ]
  },
  {
   "cell_type": "markdown",
   "id": "63a9eac1",
   "metadata": {},
   "source": [
    "Converting label to binary values\n",
    "---\n"
   ]
  },
  {
   "cell_type": "code",
   "execution_count": 28,
   "id": "f5d83e35",
   "metadata": {},
   "outputs": [],
   "source": [
    "y = df['label'].map({'ham': 0, 'spam': 1}).values"
   ]
  },
  {
   "cell_type": "markdown",
   "id": "1771d9b7",
   "metadata": {},
   "source": [
    "Train/Test Split & Model Training & Prediction Vizualization\n",
    "---"
   ]
  },
  {
   "cell_type": "code",
   "execution_count": 46,
   "id": "05e7481f",
   "metadata": {},
   "outputs": [
    {
     "name": "stderr",
     "output_type": "stream",
     "text": [
      "C:\\Users\\Lenovo\\AppData\\Local\\Temp\\ipykernel_13412\\3676431302.py:14: FutureWarning: \n",
      "\n",
      "Passing `palette` without assigning `hue` is deprecated and will be removed in v0.14.0. Assign the `x` variable to `hue` and set `legend=False` for the same effect.\n",
      "\n",
      "  sns.countplot( x = y_pred, palette='viridis')\n"
     ]
    },
    {
     "data": {
      "image/png": "[encoded data removed]",
      "text/plain": [
       "<Figure size 640x480 with 1 Axes>"
      ]
     },
     "metadata": {},
     "output_type": "display_data"
    },
    {
     "data": {
      "image/png": "[encoded data removed]",
      "text/plain": [
       "<Figure size 640x480 with 1 Axes>"
      ]
     },
     "metadata": {},
     "output_type": "display_data"
    }
   ],
   "source": [
    "from sklearn.model_selection import train_test_split\n",
    "from sklearn.naive_bayes import MultinomialNB\n",
    "\n",
    "X_train, X_test, y_train, y_test = train_test_split(X,y,test_size=0.2, random_state=42)\n",
    "\n",
    "#Train model\n",
    "model = MultinomialNB()\n",
    "model.fit(X_train, y_train)\n",
    "\n",
    "y_pred = model.predict(X_test)\n",
    "\n",
    "#Graphs\n",
    "#Predicted Labels\n",
    "sns.countplot( x = y_pred, palette='viridis')\n",
    "plt.xticks([0,1],['Ham', 'Spam'])\n",
    "plt.title('Distribution of Predicted Labels')\n",
    "plt.show()\n",
    "\n",
    "# Graph 2: Actual V/s Predicted\n",
    "sns.histplot(y_test, color='blue', label= 'Actual', kde=True, bins = 2) #kde or Kernel Density Estimation is a smooth curve of probability distribution.\n",
    "sns.histplot(y_pred, color='orange', label= 'Actual', kde=True, bins = 2) #bins shows the range of your data being split into intervals.\n",
    "plt.xticks([0,1],['Ham', 'Spam'])\n",
    "plt.title('Actual V/s Predict')\n",
    "plt.legend()\n",
    "plt.show()\n"
   ]
  },
  {
   "cell_type": "markdown",
   "id": "91cfa7cc",
   "metadata": {},
   "source": [
    "Confusion Metrics (Vizualization) & Classification Report\n",
    "---"
   ]
  },
  {
   "cell_type": "code",
   "execution_count": 41,
   "id": "751aebe0",
   "metadata": {},
   "outputs": [
    {
     "name": "stdout",
     "output_type": "stream",
     "text": [
      "\n",
      "Confusion Matrix:\n",
      " \n",
      "[[965   1]\n",
      " [ 19 130]]\n",
      "\n",
      " Classification_report:\n",
      "\n",
      "                 precision    recall  f1-score   support\n",
      "\n",
      "           0       0.98      1.00      0.99       966\n",
      "           1       0.99      0.87      0.93       149\n",
      "\n",
      "    accuracy                           0.98      1115\n",
      "   macro avg       0.99      0.94      0.96      1115\n",
      "weighted avg       0.98      0.98      0.98      1115\n",
      "\n"
     ]
    },
    {
     "data": {
      "text/plain": [
       "Text(50.722222222222214, 0.5, 'Actual')"
      ]
     },
     "execution_count": 41,
     "metadata": {},
     "output_type": "execute_result"
    },
    {
     "data": {
      "image/png": "[encoded data removed]",
      "text/plain": [
       "<Figure size 640x480 with 2 Axes>"
      ]
     },
     "metadata": {},
     "output_type": "display_data"
    }
   ],
   "source": [
    "from sklearn.metrics import confusion_matrix, classification_report\n",
    "cm = confusion_matrix(y_test, y_pred)\n",
    "print(f'''\n",
    "Confusion Matrix:\\n \n",
    "{cm}\n",
    "\n",
    " Classification_report:\\n\n",
    "   {classification_report(y_test,y_pred)}''')\n",
    "plt.title(\"Confusion Matrix\")\n",
    "sns.heatmap(cm, annot= True, cmap='coolwarm', xticklabels=['Ham', 'Spam'], yticklabels=['Ham', 'Spam'])\n",
    "plt.xlabel('Prediction')\n",
    "plt.ylabel('Actual')"
   ]
  }
 ],
 "metadata": {
  "kernelspec": {
   "display_name": "base",
   "language": "python",
   "name": "python3"
  },
  "language_info": {
   "codemirror_mode": {
    "name": "ipython",
    "version": 3
   },
   "file_extension": ".py",
   "mimetype": "text/x-python",
   "name": "python",
   "nbconvert_exporter": "python",
   "pygments_lexer": "ipython3",
   "version": "3.13.5"
  }
 },
 "nbformat": 4,
 "nbformat_minor": 5
}
