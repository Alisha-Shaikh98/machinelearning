{
 "cells": [
  {
   "cell_type": "markdown",
   "id": "55c3f018",
   "metadata": {},
   "source": [
    "Imports\n",
    "---"
   ]
  },
  {
   "cell_type": "code",
   "execution_count": 6,
   "id": "35e7330a",
   "metadata": {},
   "outputs": [],
   "source": [
    "import pandas as pd \n",
    "import seaborn as sns\n",
    "import matplotlib.pyplot as plt"
   ]
  },
  {
   "cell_type": "markdown",
   "id": "cff8ad48",
   "metadata": {},
   "source": [
    "Importing Dataset house_price \n",
    "---"
   ]
  },
  {
   "cell_type": "code",
   "execution_count": 7,
   "id": "bd1327f4",
   "metadata": {},
   "outputs": [],
   "source": [
    "# Sample dataset\n",
    "house_price = {\n",
    "  \"City\": [\"Pune\", \"Mumbai\", \"Nagpur\", \"Pune\", \"Mumbai\"],\n",
    "  \"House_Size\": [1200, 850, 1500, 900, 1100],\n",
    "  \"Price\": [7500000, 11000000, 5500000, 7000000, 9500000],\n",
    "  \"Type\": [\"Apartment\", \"Flat\", \"Bungalow\", \"Flat\", \"Apartment\"]\n",
    "}\n",
    "\n",
    "df = pd.DataFrame(house_price)\n",
    "X = df.drop(\"Price\", axis=1)\n",
    "y = df[\"Price\"]"
   ]
  },
  {
   "cell_type": "markdown",
   "id": "42614c6b",
   "metadata": {},
   "source": [
    "Preprocessing\n",
    "---"
   ]
  },
  {
   "cell_type": "code",
   "execution_count": 8,
   "id": "1bb4dbb7",
   "metadata": {},
   "outputs": [],
   "source": [
    "from sklearn.preprocessing import OneHotEncoder, StandardScaler\n",
    "from sklearn.compose import ColumnTransformer\n",
    "from sklearn.pipeline import Pipeline\n",
    "from sklearn.impute import SimpleImputer\n",
    "\n",
    "#Column based variable definition\n",
    "numerical = ['House_Size']\n",
    "categorical = ['City', 'Type']\n",
    "\n",
    "#Transformers \n",
    "numerical_transformers = Pipeline(steps = [\n",
    "    (\"imputer\", SimpleImputer(strategy=\"mean\")),\n",
    "    (\"scaler\", StandardScaler())\n",
    "])\n",
    "\n",
    "#Categorical Transformer\n",
    "categorical_transformer = Pipeline(steps=[\n",
    "    (\"imputer\", SimpleImputer(strategy=\"most_frequent\")),\n",
    "    (\"onehot\", OneHotEncoder(handle_unknown=\"ignore\"))\n",
    "])\n",
    "\n",
    "#Combining with column Transformer\n",
    "preprocessor = ColumnTransformer(\n",
    "    transformers=[\n",
    "        ('num', numerical_transformers, numerical),\n",
    "        ('cat', categorical_transformer, categorical)\n",
    "    ]\n",
    ")"
   ]
  },
  {
   "cell_type": "markdown",
   "id": "793677bf",
   "metadata": {},
   "source": [
    "Final Pipeline (model training)\n",
    "---"
   ]
  },
  {
   "cell_type": "code",
   "execution_count": 9,
   "id": "b423a29d",
   "metadata": {},
   "outputs": [],
   "source": [
    "# Final Pipeline\n",
    "from sklearn.linear_model import LinearRegression\n",
    "\n",
    "model_pipeline = Pipeline(steps=[\n",
    "    ('preprocessor', preprocessor),\n",
    "    ('model', LinearRegression())\n",
    "])"
   ]
  },
  {
   "cell_type": "markdown",
   "id": "c77ed047",
   "metadata": {},
   "source": [
    "Fit & Predict\n",
    "---"
   ]
  },
  {
   "cell_type": "code",
   "execution_count": 10,
   "id": "fcc0de6f",
   "metadata": {},
   "outputs": [
    {
     "name": "stdout",
     "output_type": "stream",
     "text": [
      "[16999999.99999999]\n"
     ]
    }
   ],
   "source": [
    "model_pipeline.fit(X,y)\n",
    "\n",
    "sample = pd.DataFrame({\n",
    "    'City' : ['Mumbai'],\n",
    "    'House_Size' : [1000],\n",
    "    'Type' : ['Flat']\n",
    "})\n",
    "\n",
    "predicted_price = model_pipeline.predict(sample)\n",
    "print(predicted_price)"
   ]
  }
 ],
 "metadata": {
  "kernelspec": {
   "display_name": "base",
   "language": "python",
   "name": "python3"
  },
  "language_info": {
   "codemirror_mode": {
    "name": "ipython",
    "version": 3
   },
   "file_extension": ".py",
   "mimetype": "text/x-python",
   "name": "python",
   "nbconvert_exporter": "python",
   "pygments_lexer": "ipython3",
   "version": "3.13.5"
  }
 },
 "nbformat": 4,
 "nbformat_minor": 5
}
